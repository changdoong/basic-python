{
 "cells": [
  {
   "cell_type": "code",
   "execution_count": null,
   "id": "aac1c3b0-4a1e-4f49-9cbb-e15604534209",
   "metadata": {},
   "outputs": [],
   "source": []
  }
 ],
 "metadata": {
  "kernelspec": {
   "display_name": "",
   "name": ""
  },
  "language_info": {
   "name": ""
  }
 },
 "nbformat": 4,
 "nbformat_minor": 5
}
