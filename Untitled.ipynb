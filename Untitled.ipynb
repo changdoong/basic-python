{
 "cells": [
  {
   "cell_type": "code",
   "execution_count": null,
   "id": "414ba46e-1b8c-4c9d-8d90-225151815505",
   "metadata": {},
   "outputs": [],
   "source": []
  }
 ],
 "metadata": {
  "kernelspec": {
   "display_name": "",
   "name": ""
  },
  "language_info": {
   "name": ""
  }
 },
 "nbformat": 4,
 "nbformat_minor": 5
}
